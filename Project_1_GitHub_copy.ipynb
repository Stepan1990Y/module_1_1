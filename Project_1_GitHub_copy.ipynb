{
 "cells": [
  {
   "cell_type": "code",
   "execution_count": 459,
   "metadata": {
    "_cell_guid": "b1076dfc-b9ad-4769-8c92-a6c4dae69d19",
    "_uuid": "8f2839f25d086af736a60e9eeb907d3b93b6e0e5",
    "colab": {},
    "colab_type": "code",
    "id": "U2D2gTdJVp90"
   },
   "outputs": [],
   "source": [
    "import numpy as np\n",
    "import pandas as pd\n",
    "import seaborn as sns\n",
    "import matplotlib.pyplot as plt\n",
    "from collections import Counter"
   ]
  },
  {
   "cell_type": "code",
   "execution_count": 460,
   "metadata": {
    "_cell_guid": "79c7e3d0-c299-4dcb-8224-4455121ee9b0",
    "_uuid": "d629ff2d2480ee46fbb7e2d37f6b5fab8052498a",
    "colab": {},
    "colab_type": "code",
    "id": "oyGfxL3eVp9-"
   },
   "outputs": [
    {
     "data": {
      "text/html": [
       "<div>\n",
       "<style scoped>\n",
       "    .dataframe tbody tr th:only-of-type {\n",
       "        vertical-align: middle;\n",
       "    }\n",
       "\n",
       "    .dataframe tbody tr th {\n",
       "        vertical-align: top;\n",
       "    }\n",
       "\n",
       "    .dataframe thead th {\n",
       "        text-align: right;\n",
       "    }\n",
       "</style>\n",
       "<table border=\"1\" class=\"dataframe\">\n",
       "  <thead>\n",
       "    <tr style=\"text-align: right;\">\n",
       "      <th></th>\n",
       "      <th>imdb_id</th>\n",
       "      <th>budget</th>\n",
       "      <th>revenue</th>\n",
       "      <th>original_title</th>\n",
       "      <th>cast</th>\n",
       "      <th>director</th>\n",
       "      <th>tagline</th>\n",
       "      <th>overview</th>\n",
       "      <th>runtime</th>\n",
       "      <th>genres</th>\n",
       "      <th>production_companies</th>\n",
       "      <th>release_date</th>\n",
       "      <th>vote_average</th>\n",
       "      <th>release_year</th>\n",
       "    </tr>\n",
       "  </thead>\n",
       "  <tbody>\n",
       "    <tr>\n",
       "      <th>70</th>\n",
       "      <td>tt2279339</td>\n",
       "      <td>17000000</td>\n",
       "      <td>24000000</td>\n",
       "      <td>Love the Coopers</td>\n",
       "      <td>Steve Martin|Diane Keaton|John Goodman|Alan Ar...</td>\n",
       "      <td>Jessie Nelson</td>\n",
       "      <td>Christmas means comfort, joy and chaos.</td>\n",
       "      <td>When four generations of the Cooper clan come ...</td>\n",
       "      <td>107</td>\n",
       "      <td>Family|Comedy</td>\n",
       "      <td>Imagine Entertainment|Groundswell Productions|...</td>\n",
       "      <td>11/12/2015</td>\n",
       "      <td>5.3</td>\n",
       "      <td>2015</td>\n",
       "    </tr>\n",
       "    <tr>\n",
       "      <th>820</th>\n",
       "      <td>tt1411704</td>\n",
       "      <td>63000000</td>\n",
       "      <td>183953723</td>\n",
       "      <td>Hop</td>\n",
       "      <td>Russell Brand|James Marsden|Kaley Cuoco|Hank A...</td>\n",
       "      <td>Tim Hill</td>\n",
       "      <td>Candy, chicks and rock 'n' roll.</td>\n",
       "      <td>E.B., the Easter Bunny's teenage son, heads to...</td>\n",
       "      <td>95</td>\n",
       "      <td>Animation</td>\n",
       "      <td>Universal Pictures|Illumination Entertainment</td>\n",
       "      <td>3/30/2011</td>\n",
       "      <td>5.4</td>\n",
       "      <td>2011</td>\n",
       "    </tr>\n",
       "    <tr>\n",
       "      <th>1251</th>\n",
       "      <td>tt1229340</td>\n",
       "      <td>50000000</td>\n",
       "      <td>173649015</td>\n",
       "      <td>Anchorman 2: The Legend Continues</td>\n",
       "      <td>Will Ferrell|Steve Carell|Paul Rudd|Christina ...</td>\n",
       "      <td>Adam McKay</td>\n",
       "      <td>It's kind of a big deal</td>\n",
       "      <td>With the 70s behind him, San Diego's top rated...</td>\n",
       "      <td>119</td>\n",
       "      <td>Comedy</td>\n",
       "      <td>Paramount Pictures|Gary Sanchez Productions|Ap...</td>\n",
       "      <td>12/18/2013</td>\n",
       "      <td>6.0</td>\n",
       "      <td>2013</td>\n",
       "    </tr>\n",
       "    <tr>\n",
       "      <th>283</th>\n",
       "      <td>tt0485947</td>\n",
       "      <td>47000000</td>\n",
       "      <td>3547209</td>\n",
       "      <td>Mr. Nobody</td>\n",
       "      <td>Jared Leto|Diane Kruger|Linh Äan Pháº¡m|Sarah ...</td>\n",
       "      <td>Jaco Van Dormael</td>\n",
       "      <td>Nothing is real, everything is possible.</td>\n",
       "      <td>Nemo Nobody leads an ordinary existence with h...</td>\n",
       "      <td>141</td>\n",
       "      <td>Science Fiction|Drama|Romance|Fantasy</td>\n",
       "      <td>Pan EuropÃ©enne Production|Virtual Films</td>\n",
       "      <td>9/11/2009</td>\n",
       "      <td>7.8</td>\n",
       "      <td>2009</td>\n",
       "    </tr>\n",
       "    <tr>\n",
       "      <th>129</th>\n",
       "      <td>tt2713180</td>\n",
       "      <td>68000000</td>\n",
       "      <td>211817906</td>\n",
       "      <td>Fury</td>\n",
       "      <td>Brad Pitt|Shia LaBeouf|Logan Lerman|Michael Pe...</td>\n",
       "      <td>David Ayer</td>\n",
       "      <td>War never ends quietly.</td>\n",
       "      <td>Last months of World War II in April 1945. As ...</td>\n",
       "      <td>135</td>\n",
       "      <td>War|Drama|Action</td>\n",
       "      <td>Columbia Pictures|QED International|Crave Film...</td>\n",
       "      <td>10/15/2014</td>\n",
       "      <td>7.4</td>\n",
       "      <td>2014</td>\n",
       "    </tr>\n",
       "  </tbody>\n",
       "</table>\n",
       "</div>"
      ],
      "text/plain": [
       "        imdb_id    budget    revenue                     original_title  \\\n",
       "70    tt2279339  17000000   24000000                   Love the Coopers   \n",
       "820   tt1411704  63000000  183953723                                Hop   \n",
       "1251  tt1229340  50000000  173649015  Anchorman 2: The Legend Continues   \n",
       "283   tt0485947  47000000    3547209                         Mr. Nobody   \n",
       "129   tt2713180  68000000  211817906                               Fury   \n",
       "\n",
       "                                                   cast          director  \\\n",
       "70    Steve Martin|Diane Keaton|John Goodman|Alan Ar...     Jessie Nelson   \n",
       "820   Russell Brand|James Marsden|Kaley Cuoco|Hank A...          Tim Hill   \n",
       "1251  Will Ferrell|Steve Carell|Paul Rudd|Christina ...        Adam McKay   \n",
       "283   Jared Leto|Diane Kruger|Linh Äan Pháº¡m|Sarah ...  Jaco Van Dormael   \n",
       "129   Brad Pitt|Shia LaBeouf|Logan Lerman|Michael Pe...        David Ayer   \n",
       "\n",
       "                                       tagline  \\\n",
       "70     Christmas means comfort, joy and chaos.   \n",
       "820           Candy, chicks and rock 'n' roll.   \n",
       "1251                   It's kind of a big deal   \n",
       "283   Nothing is real, everything is possible.   \n",
       "129                    War never ends quietly.   \n",
       "\n",
       "                                               overview  runtime  \\\n",
       "70    When four generations of the Cooper clan come ...      107   \n",
       "820   E.B., the Easter Bunny's teenage son, heads to...       95   \n",
       "1251  With the 70s behind him, San Diego's top rated...      119   \n",
       "283   Nemo Nobody leads an ordinary existence with h...      141   \n",
       "129   Last months of World War II in April 1945. As ...      135   \n",
       "\n",
       "                                     genres  \\\n",
       "70                            Family|Comedy   \n",
       "820                               Animation   \n",
       "1251                                 Comedy   \n",
       "283   Science Fiction|Drama|Romance|Fantasy   \n",
       "129                        War|Drama|Action   \n",
       "\n",
       "                                   production_companies release_date  \\\n",
       "70    Imagine Entertainment|Groundswell Productions|...   11/12/2015   \n",
       "820       Universal Pictures|Illumination Entertainment    3/30/2011   \n",
       "1251  Paramount Pictures|Gary Sanchez Productions|Ap...   12/18/2013   \n",
       "283            Pan EuropÃ©enne Production|Virtual Films    9/11/2009   \n",
       "129   Columbia Pictures|QED International|Crave Film...   10/15/2014   \n",
       "\n",
       "      vote_average  release_year  \n",
       "70             5.3          2015  \n",
       "820            5.4          2011  \n",
       "1251           6.0          2013  \n",
       "283            7.8          2009  \n",
       "129            7.4          2014  "
      ]
     },
     "execution_count": 460,
     "metadata": {},
     "output_type": "execute_result"
    }
   ],
   "source": [
    "data = pd.read_csv('movie_bd_v5.xls')\n",
    "data.sample(5)"
   ]
  },
  {
   "cell_type": "code",
   "execution_count": 461,
   "metadata": {
    "colab": {},
    "colab_type": "code",
    "id": "CoYUnagMVp-C"
   },
   "outputs": [
    {
     "data": {
      "text/html": [
       "<div>\n",
       "<style scoped>\n",
       "    .dataframe tbody tr th:only-of-type {\n",
       "        vertical-align: middle;\n",
       "    }\n",
       "\n",
       "    .dataframe tbody tr th {\n",
       "        vertical-align: top;\n",
       "    }\n",
       "\n",
       "    .dataframe thead th {\n",
       "        text-align: right;\n",
       "    }\n",
       "</style>\n",
       "<table border=\"1\" class=\"dataframe\">\n",
       "  <thead>\n",
       "    <tr style=\"text-align: right;\">\n",
       "      <th></th>\n",
       "      <th>budget</th>\n",
       "      <th>revenue</th>\n",
       "      <th>runtime</th>\n",
       "      <th>vote_average</th>\n",
       "      <th>release_year</th>\n",
       "    </tr>\n",
       "  </thead>\n",
       "  <tbody>\n",
       "    <tr>\n",
       "      <th>count</th>\n",
       "      <td>1.889000e+03</td>\n",
       "      <td>1.889000e+03</td>\n",
       "      <td>1889.000000</td>\n",
       "      <td>1889.000000</td>\n",
       "      <td>1889.000000</td>\n",
       "    </tr>\n",
       "    <tr>\n",
       "      <th>mean</th>\n",
       "      <td>5.431083e+07</td>\n",
       "      <td>1.553653e+08</td>\n",
       "      <td>109.658549</td>\n",
       "      <td>6.140762</td>\n",
       "      <td>2007.860773</td>\n",
       "    </tr>\n",
       "    <tr>\n",
       "      <th>std</th>\n",
       "      <td>4.858721e+07</td>\n",
       "      <td>2.146698e+08</td>\n",
       "      <td>18.017041</td>\n",
       "      <td>0.764763</td>\n",
       "      <td>4.468841</td>\n",
       "    </tr>\n",
       "    <tr>\n",
       "      <th>min</th>\n",
       "      <td>5.000000e+06</td>\n",
       "      <td>2.033165e+06</td>\n",
       "      <td>63.000000</td>\n",
       "      <td>3.300000</td>\n",
       "      <td>2000.000000</td>\n",
       "    </tr>\n",
       "    <tr>\n",
       "      <th>25%</th>\n",
       "      <td>2.000000e+07</td>\n",
       "      <td>3.456058e+07</td>\n",
       "      <td>97.000000</td>\n",
       "      <td>5.600000</td>\n",
       "      <td>2004.000000</td>\n",
       "    </tr>\n",
       "    <tr>\n",
       "      <th>50%</th>\n",
       "      <td>3.800000e+07</td>\n",
       "      <td>8.361541e+07</td>\n",
       "      <td>107.000000</td>\n",
       "      <td>6.100000</td>\n",
       "      <td>2008.000000</td>\n",
       "    </tr>\n",
       "    <tr>\n",
       "      <th>75%</th>\n",
       "      <td>7.200000e+07</td>\n",
       "      <td>1.782626e+08</td>\n",
       "      <td>120.000000</td>\n",
       "      <td>6.600000</td>\n",
       "      <td>2012.000000</td>\n",
       "    </tr>\n",
       "    <tr>\n",
       "      <th>max</th>\n",
       "      <td>3.800000e+08</td>\n",
       "      <td>2.781506e+09</td>\n",
       "      <td>214.000000</td>\n",
       "      <td>8.100000</td>\n",
       "      <td>2015.000000</td>\n",
       "    </tr>\n",
       "  </tbody>\n",
       "</table>\n",
       "</div>"
      ],
      "text/plain": [
       "             budget       revenue      runtime  vote_average  release_year\n",
       "count  1.889000e+03  1.889000e+03  1889.000000   1889.000000   1889.000000\n",
       "mean   5.431083e+07  1.553653e+08   109.658549      6.140762   2007.860773\n",
       "std    4.858721e+07  2.146698e+08    18.017041      0.764763      4.468841\n",
       "min    5.000000e+06  2.033165e+06    63.000000      3.300000   2000.000000\n",
       "25%    2.000000e+07  3.456058e+07    97.000000      5.600000   2004.000000\n",
       "50%    3.800000e+07  8.361541e+07   107.000000      6.100000   2008.000000\n",
       "75%    7.200000e+07  1.782626e+08   120.000000      6.600000   2012.000000\n",
       "max    3.800000e+08  2.781506e+09   214.000000      8.100000   2015.000000"
      ]
     },
     "execution_count": 461,
     "metadata": {},
     "output_type": "execute_result"
    }
   ],
   "source": [
    "data.describe()"
   ]
  },
  {
   "cell_type": "markdown",
   "metadata": {
    "colab_type": "text",
    "id": "DTIt7ezGVp-G"
   },
   "source": [
    "# Предобработка"
   ]
  },
  {
   "cell_type": "code",
   "execution_count": 550,
   "metadata": {
    "colab": {},
    "colab_type": "code",
    "id": "jNb40DwKVp-H"
   },
   "outputs": [],
   "source": [
    "answers = {} # создадим словарь для ответов\n",
    "\n",
    "# тут другие ваши предобработки колонок например:\n",
    "\n",
    "# добавил строчку profit\n",
    "data['profit'] = data['revenue'] - data['budget']\n",
    "data.sample(5)\n",
    "\n",
    "\n",
    "#the time given in the dataset is in string format.\n",
    "#So we need to change this in datetime format\n",
    "data.release_date  = pd.to_datetime(data.release_date)"
   ]
  },
  {
   "cell_type": "markdown",
   "metadata": {
    "colab_type": "text",
    "id": "YxZaH-nPVp-L"
   },
   "source": [
    "# 1. У какого фильма из списка самый большой бюджет?"
   ]
  },
  {
   "cell_type": "markdown",
   "metadata": {
    "colab_type": "text",
    "id": "Nd-G5gX6Vp-M"
   },
   "source": [
    "Использовать варианты ответов в коде решения запрещено.    \n",
    "Вы думаете и в жизни у вас будут варианты ответов?)"
   ]
  },
  {
   "cell_type": "code",
   "execution_count": 636,
   "metadata": {
    "colab": {},
    "colab_type": "code",
    "id": "uVnXAY5RVp-O"
   },
   "outputs": [],
   "source": [
    "# в словарь вставляем номер вопроса и ваш ответ на него\n",
    "# Пример: \n",
    "#answers['1'] = '2. Spider-Man 3 (tt0413300)'\n",
    "# запишите свой вариант ответа\n",
    "answers['1'] = '5. Pirates of the Caribbean: On Stranger Tides (tt1298650)'\n",
    "# если ответили верно, можете добавить комментарий со значком \"+\""
   ]
  },
  {
   "cell_type": "code",
   "execution_count": 465,
   "metadata": {
    "colab": {},
    "colab_type": "code",
    "id": "dZwb3m28Vp-S"
   },
   "outputs": [
    {
     "data": {
      "text/plain": [
       "original_title\n",
       "Pirates of the Caribbean: On Stranger Tides    380000000\n",
       "Pirates of the Caribbean: At World's End       300000000\n",
       "Avengers: Age of Ultron                        280000000\n",
       "Tangled                                        260000000\n",
       "John Carter                                    260000000\n",
       "                                                 ...    \n",
       "Spring Breakers                                  5000000\n",
       "The Last Exorcism Part II                        5000000\n",
       "Apollo 18                                        5000000\n",
       "Paranormal Activity: The Marked Ones             5000000\n",
       "Clerks II                                        5000000\n",
       "Name: budget, Length: 1887, dtype: int64"
      ]
     },
     "execution_count": 465,
     "metadata": {},
     "output_type": "execute_result"
    }
   ],
   "source": [
    "# тут пишем ваш код для решения данного вопроса:\n",
    "budget = data.groupby(['original_title'])['budget'].max().sort_values(ascending=False)\n",
    "budget"
   ]
  },
  {
   "cell_type": "markdown",
   "metadata": {
    "colab_type": "text",
    "id": "K7L3nbRXVp-X"
   },
   "source": [
    "ВАРИАНТ 2"
   ]
  },
  {
   "cell_type": "code",
   "execution_count": 0,
   "metadata": {
    "colab": {},
    "colab_type": "code",
    "id": "OGaoQI7rVp-X"
   },
   "outputs": [],
   "source": [
    "# можно добавлять разные варианты решения"
   ]
  },
  {
   "cell_type": "markdown",
   "metadata": {
    "colab_type": "text",
    "id": "FNRbbI3vVp-c"
   },
   "source": [
    "# 2. Какой из фильмов самый длительный (в минутах)?"
   ]
  },
  {
   "cell_type": "code",
   "execution_count": 637,
   "metadata": {
    "colab": {},
    "colab_type": "code",
    "id": "vHAoEXNTVp-d"
   },
   "outputs": [],
   "source": [
    "# думаю логику работы с этим словарем вы уже поняли, \n",
    "# по этому не буду больше его дублировать\n",
    "answers['2'] = '2. Gods and Generals (tt0279111)'"
   ]
  },
  {
   "cell_type": "code",
   "execution_count": 467,
   "metadata": {
    "colab": {},
    "colab_type": "code",
    "id": "ot-VX2XrVp-g"
   },
   "outputs": [
    {
     "data": {
      "text/plain": [
       "original_title\n",
       "Gods and Generals                                214\n",
       "The Lord of the Rings: The Return of the King    201\n",
       "Grindhouse                                       191\n",
       "King Kong                                        187\n",
       "Pearl Harbor                                     183\n",
       "                                                ... \n",
       "Valiant                                           76\n",
       "Home on the Range                                 76\n",
       "The Jungle Book 2                                 72\n",
       "Return to Never Land                              72\n",
       "Winnie the Pooh                                   63\n",
       "Name: runtime, Length: 1887, dtype: int64"
      ]
     },
     "execution_count": 467,
     "metadata": {},
     "output_type": "execute_result"
    }
   ],
   "source": [
    "runtime = data.groupby(['original_title'])['runtime'].max().sort_values(ascending=False)\n",
    "runtime"
   ]
  },
  {
   "cell_type": "markdown",
   "metadata": {
    "colab_type": "text",
    "id": "bapLlpW8Vp-k"
   },
   "source": [
    "# 3. Какой из фильмов самый короткий (в минутах)?\n",
    "\n",
    "\n",
    "\n"
   ]
  },
  {
   "cell_type": "code",
   "execution_count": 639,
   "metadata": {
    "colab": {},
    "colab_type": "code",
    "id": "YBxaSHuAVp-l"
   },
   "outputs": [],
   "source": [
    "answers['3'] = '3. Winnie the Pooh (tt1449283)'"
   ]
  },
  {
   "cell_type": "code",
   "execution_count": 638,
   "metadata": {},
   "outputs": [
    {
     "data": {
      "text/plain": [
       "original_title\n",
       "Winnie the Pooh                                   63\n",
       "Return to Never Land                              72\n",
       "The Jungle Book 2                                 72\n",
       "Home on the Range                                 76\n",
       "Valiant                                           76\n",
       "                                                ... \n",
       "Pearl Harbor                                     183\n",
       "King Kong                                        187\n",
       "Grindhouse                                       191\n",
       "The Lord of the Rings: The Return of the King    201\n",
       "Gods and Generals                                214\n",
       "Name: runtime, Length: 1887, dtype: int64"
      ]
     },
     "execution_count": 638,
     "metadata": {},
     "output_type": "execute_result"
    }
   ],
   "source": [
    "runtime_min = data.groupby(['original_title'])['runtime'].min().sort_values(ascending=True)\n",
    "runtime_min"
   ]
  },
  {
   "cell_type": "markdown",
   "metadata": {
    "colab_type": "text",
    "id": "TfQbxbfNVp-p"
   },
   "source": [
    "# 4. Какова средняя длительность фильмов?\n"
   ]
  },
  {
   "cell_type": "code",
   "execution_count": 640,
   "metadata": {
    "colab": {},
    "colab_type": "code",
    "id": "5K6dKZYVVp-q"
   },
   "outputs": [
    {
     "data": {
      "text/plain": [
       "109.6585494970884"
      ]
     },
     "execution_count": 640,
     "metadata": {},
     "output_type": "execute_result"
    }
   ],
   "source": [
    "data.runtime.mean()"
   ]
  },
  {
   "cell_type": "code",
   "execution_count": 641,
   "metadata": {},
   "outputs": [],
   "source": [
    "answers['4'] = '2. 110'"
   ]
  },
  {
   "cell_type": "markdown",
   "metadata": {
    "colab_type": "text",
    "id": "r5TvbnT_Vp-u"
   },
   "source": [
    "# 5. Каково медианное значение длительности фильмов? "
   ]
  },
  {
   "cell_type": "code",
   "execution_count": 235,
   "metadata": {
    "colab": {},
    "colab_type": "code",
    "id": "iBROplKnVp-v"
   },
   "outputs": [
    {
     "data": {
      "text/plain": [
       "107.0"
      ]
     },
     "execution_count": 235,
     "metadata": {},
     "output_type": "execute_result"
    }
   ],
   "source": [
    "data.runtime.median()"
   ]
  },
  {
   "cell_type": "code",
   "execution_count": 642,
   "metadata": {},
   "outputs": [],
   "source": [
    "answers['5'] = '1. 107'"
   ]
  },
  {
   "cell_type": "markdown",
   "metadata": {
    "colab_type": "text",
    "id": "39P-deDSVp-y"
   },
   "source": [
    "# 6. Какой самый прибыльный фильм?\n",
    "#### Внимание! Здесь и далее под «прибылью» или «убытками» понимается разность между сборами и бюджетом фильма. (прибыль = сборы - бюджет) в нашем датасете это будет (profit = revenue - budget) "
   ]
  },
  {
   "cell_type": "code",
   "execution_count": 643,
   "metadata": {
    "colab": {},
    "colab_type": "code",
    "id": "UYZh4T9WVp-y"
   },
   "outputs": [
    {
     "data": {
      "text/plain": [
       "original_title\n",
       "Avatar                          2544505847\n",
       "Star Wars: The Force Awakens    1868178225\n",
       "Jurassic World                  1363528810\n",
       "Furious 7                       1316249360\n",
       "The Avengers                    1299557910\n",
       "                                   ...    \n",
       "Flushed Away                     -84540684\n",
       "The Adventures of Pluto Nash     -92896027\n",
       "Mars Needs Moms                 -111007242\n",
       "The Alamo                       -119180039\n",
       "The Lone Ranger                 -165710090\n",
       "Name: profit, Length: 1887, dtype: int64"
      ]
     },
     "execution_count": 643,
     "metadata": {},
     "output_type": "execute_result"
    }
   ],
   "source": [
    "# лучше код получения столбца profit вынести в Предобработку что в начале\n",
    "max_profit = data.groupby(['original_title'])['profit'].max().sort_values(ascending=False)\n",
    "max_profit"
   ]
  },
  {
   "cell_type": "code",
   "execution_count": 644,
   "metadata": {},
   "outputs": [],
   "source": [
    "answers['6'] = '5. Avatar (tt0499549)'"
   ]
  },
  {
   "cell_type": "markdown",
   "metadata": {
    "colab_type": "text",
    "id": "M99JmIX4Vp-2"
   },
   "source": [
    "# 7. Какой фильм самый убыточный? "
   ]
  },
  {
   "cell_type": "code",
   "execution_count": 505,
   "metadata": {
    "colab": {},
    "colab_type": "code",
    "id": "w-D2m4XPVp-3"
   },
   "outputs": [],
   "source": [
    "answers['7'] = '5. The Lone Ranger (tt1210819)'"
   ]
  },
  {
   "cell_type": "code",
   "execution_count": 645,
   "metadata": {},
   "outputs": [
    {
     "data": {
      "text/plain": [
       "original_title\n",
       "The Lone Ranger                 -165710090\n",
       "The Alamo                       -119180039\n",
       "Mars Needs Moms                 -111007242\n",
       "The Adventures of Pluto Nash     -92896027\n",
       "Flushed Away                     -84540684\n",
       "                                   ...    \n",
       "The Avengers                    1299557910\n",
       "Furious 7                       1316249360\n",
       "Jurassic World                  1363528810\n",
       "Star Wars: The Force Awakens    1868178225\n",
       "Avatar                          2544505847\n",
       "Name: profit, Length: 1887, dtype: int64"
      ]
     },
     "execution_count": 645,
     "metadata": {},
     "output_type": "execute_result"
    }
   ],
   "source": [
    "min_profit = data.groupby(['original_title'])['profit'].min().sort_values(ascending=True)\n",
    "min_profit"
   ]
  },
  {
   "cell_type": "markdown",
   "metadata": {
    "colab_type": "text",
    "id": "wEOM5ERVVp-6"
   },
   "source": [
    "# 8. У скольких фильмов из датасета объем сборов оказался выше бюджета?"
   ]
  },
  {
   "cell_type": "code",
   "execution_count": 647,
   "metadata": {
    "colab": {},
    "colab_type": "code",
    "id": "y00_7HD6Vp-7"
   },
   "outputs": [],
   "source": [
    "answers['8'] = '1. 1478'"
   ]
  },
  {
   "cell_type": "code",
   "execution_count": 646,
   "metadata": {},
   "outputs": [
    {
     "data": {
      "text/plain": [
       "1478"
      ]
     },
     "execution_count": 646,
     "metadata": {},
     "output_type": "execute_result"
    }
   ],
   "source": [
    "len(data[data['profit'] > 0])"
   ]
  },
  {
   "cell_type": "markdown",
   "metadata": {
    "colab_type": "text",
    "id": "xhpspA9KVp_A"
   },
   "source": [
    "# 9. Какой фильм оказался самым кассовым в 2008 году?"
   ]
  },
  {
   "cell_type": "code",
   "execution_count": 648,
   "metadata": {
    "colab": {},
    "colab_type": "code",
    "id": "MoUyQr9RVp_B"
   },
   "outputs": [],
   "source": [
    "answers['9'] = '4. The Dark Knight (tt0468569)'"
   ]
  },
  {
   "cell_type": "code",
   "execution_count": 649,
   "metadata": {},
   "outputs": [
    {
     "data": {
      "text/plain": [
       "original_title\n",
       "The Dark Knight    816921825\n",
       "Name: profit, dtype: int64"
      ]
     },
     "execution_count": 649,
     "metadata": {},
     "output_type": "execute_result"
    }
   ],
   "source": [
    "max_profit_2008 = data[data['release_year'] == 2008].groupby(['original_title'])['profit'].max().sort_values(ascending=False)\n",
    "max_profit_2008.head(1)"
   ]
  },
  {
   "cell_type": "markdown",
   "metadata": {
    "colab_type": "text",
    "id": "Zi4hDKidVp_F"
   },
   "source": [
    "# 10. Самый убыточный фильм за период с 2012 по 2014 г. (включительно)?\n"
   ]
  },
  {
   "cell_type": "code",
   "execution_count": 650,
   "metadata": {
    "colab": {},
    "colab_type": "code",
    "id": "XqyRmufJVp_F"
   },
   "outputs": [],
   "source": [
    "answers['10'] = '4. The Lone Ranger (tt1210819)'"
   ]
  },
  {
   "cell_type": "code",
   "execution_count": 651,
   "metadata": {},
   "outputs": [
    {
     "data": {
      "text/plain": [
       "original_title\n",
       "The Lone Ranger   -165710090\n",
       "Name: profit, dtype: int64"
      ]
     },
     "execution_count": 651,
     "metadata": {},
     "output_type": "execute_result"
    }
   ],
   "source": [
    "min_profit_1 = data[(data['release_year'] >= 2012) & (data['release_year'] <= 2014)].groupby(['original_title'])['profit'].min().sort_values(ascending=True)\n",
    "min_profit_1.head(1)"
   ]
  },
  {
   "cell_type": "markdown",
   "metadata": {
    "colab_type": "text",
    "id": "EA7Sa9dkVp_I"
   },
   "source": [
    "# 11. Какого жанра фильмов больше всего?"
   ]
  },
  {
   "cell_type": "code",
   "execution_count": 0,
   "metadata": {
    "colab": {},
    "colab_type": "code",
    "id": "zsJAwJ8QVp_J"
   },
   "outputs": [],
   "source": [
    "# эту задачу тоже можно решать разными подходами, попробуй реализовать разные варианты\n",
    "# если будешь добавлять функцию - выноси ее в предобработку что в начале"
   ]
  },
  {
   "cell_type": "code",
   "execution_count": 712,
   "metadata": {},
   "outputs": [],
   "source": [
    "answers['11'] = '3. Drama'"
   ]
  },
  {
   "cell_type": "markdown",
   "metadata": {
    "colab_type": "text",
    "id": "Ax6g2C8SVp_M"
   },
   "source": [
    "ВАРИАНТ 2"
   ]
  },
  {
   "cell_type": "code",
   "execution_count": 653,
   "metadata": {
    "colab": {},
    "colab_type": "code",
    "id": "otO3SbrSVp_N"
   },
   "outputs": [
    {
     "data": {
      "text/plain": [
       "Drama              782\n",
       "Comedy             683\n",
       "Thriller           596\n",
       "Action             582\n",
       "Adventure          415\n",
       "Crime              315\n",
       "Romance            308\n",
       "Family             260\n",
       "Science Fiction    248\n",
       "Fantasy            222\n",
       "Horror             176\n",
       "Mystery            168\n",
       "Animation          139\n",
       "Music               64\n",
       "History             62\n",
       "War                 58\n",
       "Western             19\n",
       "Documentary          8\n",
       "Foreign              2\n",
       "Name: genres, dtype: int64"
      ]
     },
     "execution_count": 653,
     "metadata": {},
     "output_type": "execute_result"
    }
   ],
   "source": [
    "data['genres'].str.split('|').explode().value_counts()\n",
    "\n",
    "#genres.explode().value_counts()"
   ]
  },
  {
   "cell_type": "markdown",
   "metadata": {
    "colab_type": "text",
    "id": "T9_bPWpkVp_Q"
   },
   "source": [
    "# 12. Фильмы какого жанра чаще всего становятся прибыльными? "
   ]
  },
  {
   "cell_type": "code",
   "execution_count": 654,
   "metadata": {
    "colab": {},
    "colab_type": "code",
    "id": "Tmt8MaK1Vp_R"
   },
   "outputs": [
    {
     "data": {
      "text/plain": [
       "genres12\n",
       "Drama              560\n",
       "Comedy             551\n",
       "Thriller           446\n",
       "Action             444\n",
       "Adventure          337\n",
       "Romance            242\n",
       "Crime              231\n",
       "Family             226\n",
       "Science Fiction    195\n",
       "Fantasy            188\n",
       "Horror             150\n",
       "Animation          120\n",
       "Mystery            119\n",
       "Music               47\n",
       "History             46\n",
       "War                 41\n",
       "Western             12\n",
       "Documentary          7\n",
       "Name: profit, dtype: int64"
      ]
     },
     "execution_count": 654,
     "metadata": {},
     "output_type": "execute_result"
    }
   ],
   "source": [
    "data12 = data[data['profit'] > 0].copy()\n",
    "data12['genres12'] = data12.genres.str.split('|')\n",
    "data_12_1 = data12[['profit','genres12']].explode('genres12')\n",
    "data_12_1.groupby(['genres12'])['profit'].count().sort_values(ascending = False)\n",
    "#genres_profit = data12.groupby(['genres12'])['profit'].sum().sort_values(ascending = False)"
   ]
  },
  {
   "cell_type": "code",
   "execution_count": 713,
   "metadata": {},
   "outputs": [],
   "source": [
    "answers['12'] = '1. Drama'"
   ]
  },
  {
   "cell_type": "markdown",
   "metadata": {
    "colab_type": "text",
    "id": "0F23bgsDVp_U"
   },
   "source": [
    "# 13. У какого режиссера самые большие суммарные кассовые сбооры?"
   ]
  },
  {
   "cell_type": "code",
   "execution_count": 655,
   "metadata": {
    "colab": {},
    "colab_type": "code",
    "id": "K6Z3J8ygVp_X"
   },
   "outputs": [
    {
     "data": {
      "text/plain": [
       "director13\n",
       "Peter Jackson        6490593685\n",
       "Christopher Nolan    4167548502\n",
       "David Yates          4154295625\n",
       "Michael Bay          3886938960\n",
       "J.J. Abrams          3579169916\n",
       "                        ...    \n",
       "Daniel Barber          10329747\n",
       "DJ Pooh                10229331\n",
       "Joe Nussbaum           10130000\n",
       "Christine Jeffs        10000000\n",
       "John Gulager            8493728\n",
       "Name: revenue, Length: 814, dtype: int64"
      ]
     },
     "execution_count": 655,
     "metadata": {},
     "output_type": "execute_result"
    }
   ],
   "source": [
    "data13 = data[data.columns[2:6]].copy()\n",
    "data13['director13'] = data12.director.str.split('|')\n",
    "data13_1 = data13[['revenue','director13']].explode('director13')\n",
    "data13_1.groupby(['director13'])['revenue'].sum().sort_values(ascending = False)"
   ]
  },
  {
   "cell_type": "code",
   "execution_count": 714,
   "metadata": {},
   "outputs": [],
   "source": [
    "answers['13'] = '5. Peter Jackson'"
   ]
  },
  {
   "cell_type": "markdown",
   "metadata": {
    "colab_type": "text",
    "id": "PsYC9FgRVp_a"
   },
   "source": [
    "14. Какой режисер снял больше всего фильмов в стиле Action?"
   ]
  },
  {
   "cell_type": "code",
   "execution_count": 657,
   "metadata": {
    "colab": {},
    "colab_type": "code",
    "id": "wd2M-wHeVp_b"
   },
   "outputs": [
    {
     "data": {
      "text/plain": [
       "director14\n",
       "Robert Rodriguez      9\n",
       "Paul W.S. Anderson    7\n",
       "Michael Bay           7\n",
       "Ridley Scott          6\n",
       "Antoine Fuqua         6\n",
       "                     ..\n",
       "Joe Cornish           1\n",
       "Roger Spottiswoode    1\n",
       "Jimmy Hayward         1\n",
       "Jim Gillespie         1\n",
       "Jon Avnet             1\n",
       "Name: genres14, Length: 364, dtype: int64"
      ]
     },
     "execution_count": 657,
     "metadata": {},
     "output_type": "execute_result"
    }
   ],
   "source": [
    "data14 = data[data.genres.str.contains(\"Action\", na = False)].copy()\n",
    "data14['genres14'] = data14.genres.str.split('|')\n",
    "data14['director14'] = data14.director.str.split('|')\n",
    "data14_1 = data14[['genres14','director14']].explode('genres14')\n",
    "data14_1 = data14_1[['genres14','director14']].explode('director14')\n",
    "data14_1[data14_1['genres14'] == 'Action'].groupby('director14')['genres14'].count().sort_values(ascending = False)"
   ]
  },
  {
   "cell_type": "code",
   "execution_count": 715,
   "metadata": {},
   "outputs": [],
   "source": [
    "answers['14'] = '3. Robert Rodriguez'"
   ]
  },
  {
   "cell_type": "markdown",
   "metadata": {
    "colab_type": "text",
    "id": "PQ0KciD7Vp_f"
   },
   "source": [
    "# 15. Фильмы с каким актером принесли самые высокие кассовые сборы в 2012 году? "
   ]
  },
  {
   "cell_type": "code",
   "execution_count": 659,
   "metadata": {
    "colab": {},
    "colab_type": "code",
    "id": "aga62oeKVp_g"
   },
   "outputs": [
    {
     "data": {
      "text/plain": [
       "actors\n",
       "Chris Hemsworth      2027450773\n",
       "Denis Leary          1629460639\n",
       "Anne Hathaway        1522851057\n",
       "Chris Evans          1519557910\n",
       "Robert Downey Jr.    1519557910\n",
       "                        ...    \n",
       "Jason Bateman           3428048\n",
       "Danny Huston            2106557\n",
       "Sami Gayle              2106557\n",
       "Josh Lucas              2106557\n",
       "Nicolas Cage            2106557\n",
       "Name: revenue, Length: 466, dtype: int64"
      ]
     },
     "execution_count": 659,
     "metadata": {},
     "output_type": "execute_result"
    }
   ],
   "source": [
    "data15 = data[data['release_year'] == 2012].copy()\n",
    "data15['actors'] = data15.cast.str.split('|')\n",
    "data15_1 = data15[['revenue','actors']].explode('actors')\n",
    "data15_1.groupby(['actors'])['revenue'].sum().sort_values(ascending = False)"
   ]
  },
  {
   "cell_type": "code",
   "execution_count": 716,
   "metadata": {},
   "outputs": [],
   "source": [
    "answers['15'] = '3. Chris Hemsworth'"
   ]
  },
  {
   "cell_type": "markdown",
   "metadata": {
    "colab_type": "text",
    "id": "mWHyyL7QVp_j"
   },
   "source": [
    "# 16. Какой актер снялся в большем количестве высокобюджетных фильмов?"
   ]
  },
  {
   "cell_type": "code",
   "execution_count": 661,
   "metadata": {
    "colab": {},
    "colab_type": "code",
    "id": "qQtmHKTFVp_k"
   },
   "outputs": [
    {
     "data": {
      "text/plain": [
       "actors\n",
       "Matt Damon           18\n",
       "Adam Sandler         17\n",
       "Angelina Jolie       16\n",
       "Eddie Murphy         15\n",
       "Samuel L. Jackson    15\n",
       "                     ..\n",
       "Leslie Bibb           1\n",
       "Leonard Nimoy         1\n",
       "Lennie James          1\n",
       "Lena Olin             1\n",
       "50 Cent               1\n",
       "Name: budget, Length: 1505, dtype: int64"
      ]
     },
     "execution_count": 661,
     "metadata": {},
     "output_type": "execute_result"
    }
   ],
   "source": [
    "data16 = data[data.columns[1:5]].copy()\n",
    "data16 = data16[data.budget > data.budget.mean()]\n",
    "data16['actors'] = data16.cast.str.split('|')\n",
    "data16_1 = data16[['budget','actors']].explode('actors')\n",
    "data16_1.groupby(['actors'])['budget'].count().sort_values(ascending = False)"
   ]
  },
  {
   "cell_type": "code",
   "execution_count": 717,
   "metadata": {},
   "outputs": [],
   "source": [
    "answers['16'] = '3. Matt Damon'"
   ]
  },
  {
   "cell_type": "markdown",
   "metadata": {
    "colab_type": "text",
    "id": "NIh6AaW5Vp_n"
   },
   "source": [
    "# 17. В фильмах какого жанра больше всего снимался Nicolas Cage? "
   ]
  },
  {
   "cell_type": "code",
   "execution_count": 663,
   "metadata": {
    "colab": {},
    "colab_type": "code",
    "id": "H74SJDIBVp_n"
   },
   "outputs": [
    {
     "data": {
      "text/plain": [
       "genres17\n",
       "Action             17\n",
       "Thriller           15\n",
       "Drama              12\n",
       "Crime              10\n",
       "Fantasy             8\n",
       "Adventure           7\n",
       "Comedy              6\n",
       "Science Fiction     4\n",
       "Mystery             3\n",
       "Family              3\n",
       "Animation           3\n",
       "History             2\n",
       "War                 1\n",
       "Romance             1\n",
       "Horror              1\n",
       "Name: actors, dtype: int64"
      ]
     },
     "execution_count": 663,
     "metadata": {},
     "output_type": "execute_result"
    }
   ],
   "source": [
    "data17 = data[data.cast.str.contains(\"Nicolas Cage\", na = False)].copy()\n",
    "data17['actors'] = data17.cast.str.split('|')\n",
    "data17['genres17'] = data17.genres.str.split('|')\n",
    "data17_1 = data17[['actors','genres17']].explode('actors')\n",
    "data17_1 = data17_1[['actors','genres17']].explode('genres17')\n",
    "data17_1[data17_1['actors'] == 'Nicolas Cage'].groupby('genres17')['actors'].count().sort_values(ascending = False)"
   ]
  },
  {
   "cell_type": "code",
   "execution_count": 718,
   "metadata": {},
   "outputs": [],
   "source": [
    "answers['17'] = '2. Action'"
   ]
  },
  {
   "cell_type": "markdown",
   "metadata": {
    "colab_type": "text",
    "id": "RqOmPRfWVp_q"
   },
   "source": [
    "# 18. Самый убыточный фильм от Paramount Pictures"
   ]
  },
  {
   "cell_type": "code",
   "execution_count": 665,
   "metadata": {
    "colab": {},
    "colab_type": "code",
    "id": "9E_B0Y96Vp_r"
   },
   "outputs": [
    {
     "data": {
      "text/plain": [
       "original_title\n",
       "Transformers: Dark of the Moon                        928746996\n",
       "Transformers: Revenge of the Fallen                   686297228\n",
       "Indiana Jones and the Kingdom of the Crystal Skull    601636033\n",
       "Transformers                                          559709780\n",
       "Mission: Impossible - Ghost Protocol                  549713380\n",
       "                                                        ...    \n",
       "Twisted                                               -24805000\n",
       "Alfie                                                 -46604061\n",
       "Next                                                  -51788987\n",
       "Timeline                                              -60519261\n",
       "K-19: The Widowmaker                                  -64831034\n",
       "Name: profit, Length: 122, dtype: int64"
      ]
     },
     "execution_count": 665,
     "metadata": {},
     "output_type": "execute_result"
    }
   ],
   "source": [
    "data18 = data[data.production_companies.str.contains(\"Paramount Pictures\", na = False)].copy()\n",
    "data18['prod_comp'] = data18.production_companies.str.split('|')\n",
    "data18 = data18[['original_title', 'profit', 'prod_comp']].explode('prod_comp')\n",
    "data18[data18['prod_comp'] == 'Paramount Pictures'].groupby('original_title')['profit'].min().sort_values(ascending = False)"
   ]
  },
  {
   "cell_type": "code",
   "execution_count": 719,
   "metadata": {},
   "outputs": [],
   "source": [
    "answers['18'] = '1. K-19: The Widowmaker (tt0267626)'"
   ]
  },
  {
   "cell_type": "markdown",
   "metadata": {
    "colab_type": "text",
    "id": "vS8Ur6ddVp_u"
   },
   "source": [
    "# 19. Какой год стал самым успешным по суммарным кассовым сборам?"
   ]
  },
  {
   "cell_type": "code",
   "execution_count": 667,
   "metadata": {
    "colab": {},
    "colab_type": "code",
    "id": "Dnbt4GdIVp_v"
   },
   "outputs": [
    {
     "data": {
      "text/plain": [
       "release_year\n",
       "2015    25449202382\n",
       "2014    23405862953\n",
       "2013    23213799791\n",
       "2012    23079001687\n",
       "2011    22676791872\n",
       "2010    21071204961\n",
       "2009    20261791024\n",
       "2008    18252781990\n",
       "2007    18162406801\n",
       "2004    15663430720\n",
       "2005    15309425558\n",
       "2006    14775042320\n",
       "2003    14346123312\n",
       "2002    14136361487\n",
       "2001    13017764865\n",
       "2000    10664099805\n",
       "Name: revenue, dtype: int64"
      ]
     },
     "execution_count": 667,
     "metadata": {},
     "output_type": "execute_result"
    }
   ],
   "source": [
    "by_years = data.groupby(['release_year'])['revenue'].sum().sort_values(ascending=False)\n",
    "by_years"
   ]
  },
  {
   "cell_type": "code",
   "execution_count": 720,
   "metadata": {},
   "outputs": [],
   "source": [
    "answers['19'] = '5. 2015'"
   ]
  },
  {
   "cell_type": "markdown",
   "metadata": {
    "colab_type": "text",
    "id": "JAzJh4QAVp_z"
   },
   "source": [
    "# 20. Какой самый прибыльный год для студии Warner Bros?"
   ]
  },
  {
   "cell_type": "code",
   "execution_count": 669,
   "metadata": {
    "colab": {},
    "colab_type": "code",
    "id": "wgVu02DEVp_0"
   },
   "outputs": [
    {
     "data": {
      "text/plain": [
       "release_year\n",
       "2014    2295464519\n",
       "2007    2201675217\n",
       "2008    2134595031\n",
       "2010    1974712985\n",
       "2011    1871393682\n",
       "2003    1855493377\n",
       "2009    1822454136\n",
       "2013    1636453400\n",
       "2004    1631933725\n",
       "2005    1551980298\n",
       "2001    1343545668\n",
       "2012    1258020056\n",
       "2002    1022709901\n",
       "2015     870368348\n",
       "2006     620170743\n",
       "2000     452631386\n",
       "Name: profit, dtype: int64"
      ]
     },
     "execution_count": 669,
     "metadata": {},
     "output_type": "execute_result"
    }
   ],
   "source": [
    "data20 = data[data.production_companies.str.contains(\"Warner Bros\", na = False)].copy()\n",
    "data20.groupby('release_year')['profit'].sum().sort_values(ascending=False)"
   ]
  },
  {
   "cell_type": "code",
   "execution_count": 721,
   "metadata": {},
   "outputs": [],
   "source": [
    "answers['20'] = '1. 2014'"
   ]
  },
  {
   "cell_type": "markdown",
   "metadata": {
    "colab_type": "text",
    "id": "8Im1S2HRVp_4"
   },
   "source": [
    "# 21. В каком месяце за все годы суммарно вышло больше всего фильмов?"
   ]
  },
  {
   "cell_type": "code",
   "execution_count": 671,
   "metadata": {
    "colab": {},
    "colab_type": "code",
    "id": "lev6TH7gVp_4"
   },
   "outputs": [
    {
     "data": {
      "text/plain": [
       "9     227\n",
       "12    190\n",
       "10    186\n",
       "8     161\n",
       "3     156\n",
       "4     149\n",
       "6     147\n",
       "11    146\n",
       "7     142\n",
       "5     140\n",
       "2     135\n",
       "1     110\n",
       "Name: release_date, dtype: int64"
      ]
     },
     "execution_count": 671,
     "metadata": {},
     "output_type": "execute_result"
    }
   ],
   "source": [
    "data21 = data.release_date.dt.month.value_counts()\n",
    "data21"
   ]
  },
  {
   "cell_type": "code",
   "execution_count": 722,
   "metadata": {},
   "outputs": [],
   "source": [
    "answers['21'] = '4. Сентябрь'"
   ]
  },
  {
   "cell_type": "markdown",
   "metadata": {
    "colab_type": "text",
    "id": "uAJsZ_NeVp_7"
   },
   "source": [
    "# 22. Сколько суммарно вышло фильмов летом? (за июнь, июль, август)"
   ]
  },
  {
   "cell_type": "code",
   "execution_count": 733,
   "metadata": {
    "colab": {},
    "colab_type": "code",
    "id": "Aa-hEREoVp_8"
   },
   "outputs": [
    {
     "data": {
      "text/plain": [
       "450"
      ]
     },
     "execution_count": 733,
     "metadata": {},
     "output_type": "execute_result"
    }
   ],
   "source": [
    "data22 = data[data.release_date.dt.month.isin([6, 7, 8,])].copy()\n",
    "data22.original_title.count()"
   ]
  },
  {
   "cell_type": "code",
   "execution_count": 723,
   "metadata": {},
   "outputs": [],
   "source": [
    "answers['22'] = '2. 450'"
   ]
  },
  {
   "cell_type": "markdown",
   "metadata": {
    "colab_type": "text",
    "id": "G94ppOY1VqAA"
   },
   "source": [
    "# 23. Для какого режиссера зима – самое продуктивное время года? "
   ]
  },
  {
   "cell_type": "code",
   "execution_count": 675,
   "metadata": {
    "colab": {},
    "colab_type": "code",
    "id": "RhNTsamuVqAB"
   },
   "outputs": [
    {
     "data": {
      "text/plain": [
       "director23\n",
       "Peter Jackson            7\n",
       "Steven Soderbergh        6\n",
       "Clint Eastwood           6\n",
       "Martin Scorsese          4\n",
       "Adam Shankman            4\n",
       "                        ..\n",
       "Matt Bettinelli-Olpin    1\n",
       "Matt Reeves              1\n",
       "Matthew O'Callaghan      1\n",
       "Matthew Vaughn           1\n",
       "Jon Avnet                1\n",
       "Name: release_date, Length: 358, dtype: int64"
      ]
     },
     "execution_count": 675,
     "metadata": {},
     "output_type": "execute_result"
    }
   ],
   "source": [
    "data23 = data[['release_date','director']].copy()\n",
    "data23['director23'] = data23.director.str.split('|')\n",
    "data23 = data23[['release_date', 'director23']].explode('director23')\n",
    "#data23\n",
    "data_tmp = data23[data23.release_date.dt.month.isin([1, 2, 12,])]\n",
    "data_tmp.groupby('director23')['release_date'].count().sort_values(ascending=False)"
   ]
  },
  {
   "cell_type": "code",
   "execution_count": 676,
   "metadata": {},
   "outputs": [],
   "source": [
    "answers['23'] = '5. Peter Jackson'"
   ]
  },
  {
   "cell_type": "markdown",
   "metadata": {
    "colab_type": "text",
    "id": "RBo0JVjVVqAF"
   },
   "source": [
    "# 24. Какая студия дает самые длинные названия своим фильмам по количеству символов?"
   ]
  },
  {
   "cell_type": "code",
   "execution_count": 677,
   "metadata": {
    "colab": {},
    "colab_type": "code",
    "id": "QRGS8L0iVqAG"
   },
   "outputs": [
    {
     "data": {
      "text/plain": [
       "prod_com24\n",
       "Four By Two Productions       83.0\n",
       "Jim Henson Company, The       59.0\n",
       "Dos Corazones                 47.0\n",
       "Museum Canada Productions     46.0\n",
       "Polsky Films                  46.0\n",
       "                              ... \n",
       "Everest Entertainment          3.0\n",
       "Berlanti Productions           3.0\n",
       "XM2 Productions                2.0\n",
       "Ixtlan Productions             2.0\n",
       "Global Entertainment Group     2.0\n",
       "Name: len_title, Length: 1771, dtype: float64"
      ]
     },
     "execution_count": 677,
     "metadata": {},
     "output_type": "execute_result"
    }
   ],
   "source": [
    "data24 = data[data.columns[3:11]].copy()\n",
    "data24['len_title'] = data24.original_title.apply(lambda x: len(x))\n",
    "data24['prod_com24'] = data24.production_companies.str.split('|')\n",
    "data24 = data24[['prod_com24', 'len_title']].explode('prod_com24')\n",
    "data24.groupby(['prod_com24'])['len_title'].mean().sort_values(ascending=False)"
   ]
  },
  {
   "cell_type": "code",
   "execution_count": 678,
   "metadata": {},
   "outputs": [],
   "source": [
    "answers['24'] = '5. Four By Two Productions'"
   ]
  },
  {
   "cell_type": "markdown",
   "metadata": {
    "colab_type": "text",
    "id": "9G0hbvR7VqAK"
   },
   "source": [
    "# 25. Описание фильмов какой студии в среднем самые длинные по количеству слов?"
   ]
  },
  {
   "cell_type": "code",
   "execution_count": 679,
   "metadata": {
    "colab": {},
    "colab_type": "code",
    "id": "Ge2GsLNxVqAK"
   },
   "outputs": [
    {
     "data": {
      "text/plain": [
       "prod_com25\n",
       "Midnight Picture Show                    1000.0\n",
       "Room 9 Entertainment                      964.0\n",
       "Brookwell-McNamara Entertainment          936.0\n",
       "Lions Gate Family Entertainment           909.0\n",
       "Crest Animation Productions               909.0\n",
       "                                          ...  \n",
       "Projection Pictures                        74.0\n",
       "London Boulevard                           74.0\n",
       "Phantom Four                               72.0\n",
       "Empire Pictures                            62.0\n",
       "Motion Picture Corporation of America      59.0\n",
       "Name: len_overview, Length: 1771, dtype: float64"
      ]
     },
     "execution_count": 679,
     "metadata": {},
     "output_type": "execute_result"
    }
   ],
   "source": [
    "data25 = data[data.columns[7:11]].copy()\n",
    "data25['len_overview'] = data25.overview.apply(lambda x: len(x))\n",
    "data25['prod_com25'] = data25.production_companies.str.split('|')\n",
    "data25 = data25[['prod_com25', 'len_overview']].explode('prod_com25')\n",
    "data25.groupby(['prod_com25'])['len_overview'].mean().sort_values(ascending=False)"
   ]
  },
  {
   "cell_type": "code",
   "execution_count": 680,
   "metadata": {},
   "outputs": [],
   "source": [
    "answers['25'] = '3. Midnight Picture Show'"
   ]
  },
  {
   "cell_type": "markdown",
   "metadata": {
    "colab_type": "text",
    "id": "FJ1AFt90VqAP"
   },
   "source": [
    "# 26. Какие фильмы входят в 1 процент лучших по рейтингу? \n",
    "по vote_average"
   ]
  },
  {
   "cell_type": "code",
   "execution_count": 709,
   "metadata": {
    "colab": {},
    "colab_type": "code",
    "id": "8qmJVq4CVqAQ"
   },
   "outputs": [
    {
     "name": "stdout",
     "output_type": "stream",
     "text": [
      "vote_average    7.8\n",
      "Name: 0.99, dtype: float64\n",
      "                                         original_title  vote_average\n",
      "9                                            Inside Out           8.0\n",
      "28                                            Spotlight           7.8\n",
      "34                                                 Room           8.0\n",
      "118                                        Interstellar           8.0\n",
      "119                             Guardians of the Galaxy           7.9\n",
      "124                                          Big Hero 6           7.8\n",
      "125                                  The Imitation Game           8.0\n",
      "128                                           Gone Girl           7.9\n",
      "138                            The Grand Budapest Hotel           7.9\n",
      "155                            The Theory of Everything           7.8\n",
      "177                              The Fault in Our Stars           7.8\n",
      "283                                          Mr. Nobody           7.8\n",
      "316                                            3 Idiots           7.8\n",
      "370                                           Inception           7.9\n",
      "496   The Lord of the Rings: The Fellowship of the Ring           7.8\n",
      "599                                     The Dark Knight           8.1\n",
      "863               The Lord of the Rings: The Two Towers           7.8\n",
      "872                                         The Pianist           7.9\n",
      "1081      The Lord of the Rings: The Return of the King           7.9\n",
      "1183                            The Wolf of Wall Street           7.9\n",
      "1188                                                Her           7.8\n",
      "1191                                   12 Years a Slave           7.9\n",
      "1205                                          Prisoners           7.8\n",
      "1213                                 Dallas Buyers Club           7.8\n",
      "1444                                       The Prestige           7.8\n",
      "1563              Eternal Sunshine of the Spotless Mind           7.8\n",
      "1688                                There Will Be Blood           7.8\n",
      "1800                                            Memento           7.9\n"
     ]
    }
   ],
   "source": [
    "data26 = data[['original_title', 'vote_average']]\n",
    "\n",
    "print(data26.quantile(q = 0.99, axis = 0))\n",
    "print(data26[data26['vote_average'] >= 7.8])\n",
    "# в этом задании не понял как вывести датафрейм не используя 2ую строчку с фильром. Сначала посчитал квантиль (7.8) а потом уже вывел с помощью фильтра все позиции с данным рейтингом"
   ]
  },
  {
   "cell_type": "code",
   "execution_count": 710,
   "metadata": {},
   "outputs": [],
   "source": [
    "answers['26'] = '1. Inside Out, The Dark Knight, 12 Years a Slave'"
   ]
  },
  {
   "cell_type": "markdown",
   "metadata": {
    "colab_type": "text",
    "id": "MdXsUXbCVqAV"
   },
   "source": [
    "# 27. Какие актеры чаще всего снимаются в одном фильме вместе?\n"
   ]
  },
  {
   "cell_type": "markdown",
   "metadata": {
    "colab_type": "text",
    "id": "4ymnxEVoVqAW"
   },
   "source": [
    "ВАРИАНТ 2"
   ]
  },
  {
   "cell_type": "code",
   "execution_count": 730,
   "metadata": {},
   "outputs": [],
   "source": [
    "import itertools"
   ]
  },
  {
   "cell_type": "code",
   "execution_count": 732,
   "metadata": {},
   "outputs": [
    {
     "ename": "KeyError",
     "evalue": "0",
     "output_type": "error",
     "traceback": [
      "\u001b[0;31m---------------------------------------------------------------------------\u001b[0m",
      "\u001b[0;31mKeyError\u001b[0m                                  Traceback (most recent call last)",
      "\u001b[0;32m~/opt/anaconda3/lib/python3.7/site-packages/pandas/core/indexes/base.py\u001b[0m in \u001b[0;36mget_loc\u001b[0;34m(self, key, method, tolerance)\u001b[0m\n\u001b[1;32m   2645\u001b[0m             \u001b[0;32mtry\u001b[0m\u001b[0;34m:\u001b[0m\u001b[0;34m\u001b[0m\u001b[0;34m\u001b[0m\u001b[0m\n\u001b[0;32m-> 2646\u001b[0;31m                 \u001b[0;32mreturn\u001b[0m \u001b[0mself\u001b[0m\u001b[0;34m.\u001b[0m\u001b[0m_engine\u001b[0m\u001b[0;34m.\u001b[0m\u001b[0mget_loc\u001b[0m\u001b[0;34m(\u001b[0m\u001b[0mkey\u001b[0m\u001b[0;34m)\u001b[0m\u001b[0;34m\u001b[0m\u001b[0;34m\u001b[0m\u001b[0m\n\u001b[0m\u001b[1;32m   2647\u001b[0m             \u001b[0;32mexcept\u001b[0m \u001b[0mKeyError\u001b[0m\u001b[0;34m:\u001b[0m\u001b[0;34m\u001b[0m\u001b[0;34m\u001b[0m\u001b[0m\n",
      "\u001b[0;32mpandas/_libs/index.pyx\u001b[0m in \u001b[0;36mpandas._libs.index.IndexEngine.get_loc\u001b[0;34m()\u001b[0m\n",
      "\u001b[0;32mpandas/_libs/index.pyx\u001b[0m in \u001b[0;36mpandas._libs.index.IndexEngine.get_loc\u001b[0;34m()\u001b[0m\n",
      "\u001b[0;32mpandas/_libs/hashtable_class_helper.pxi\u001b[0m in \u001b[0;36mpandas._libs.hashtable.PyObjectHashTable.get_item\u001b[0;34m()\u001b[0m\n",
      "\u001b[0;32mpandas/_libs/hashtable_class_helper.pxi\u001b[0m in \u001b[0;36mpandas._libs.hashtable.PyObjectHashTable.get_item\u001b[0;34m()\u001b[0m\n",
      "\u001b[0;31mKeyError\u001b[0m: 0",
      "\nDuring handling of the above exception, another exception occurred:\n",
      "\u001b[0;31mKeyError\u001b[0m                                  Traceback (most recent call last)",
      "\u001b[0;32m<ipython-input-732-a3a37b228363>\u001b[0m in \u001b[0;36m<module>\u001b[0;34m\u001b[0m\n\u001b[1;32m      5\u001b[0m \u001b[0;34m\u001b[0m\u001b[0m\n\u001b[1;32m      6\u001b[0m \u001b[0;32mfor\u001b[0m \u001b[0mrow\u001b[0m \u001b[0;32min\u001b[0m \u001b[0mrange\u001b[0m\u001b[0;34m(\u001b[0m\u001b[0mlen\u001b[0m\u001b[0;34m(\u001b[0m\u001b[0mdata27\u001b[0m\u001b[0;34m)\u001b[0m\u001b[0;34m)\u001b[0m\u001b[0;34m:\u001b[0m\u001b[0;34m\u001b[0m\u001b[0;34m\u001b[0m\u001b[0m\n\u001b[0;32m----> 7\u001b[0;31m     \u001b[0mpairs\u001b[0m\u001b[0;34m.\u001b[0m\u001b[0mappend\u001b[0m\u001b[0;34m(\u001b[0m\u001b[0mlist\u001b[0m\u001b[0;34m(\u001b[0m\u001b[0mitertools\u001b[0m\u001b[0;34m.\u001b[0m\u001b[0mcombinations\u001b[0m\u001b[0;34m(\u001b[0m\u001b[0mdata27\u001b[0m\u001b[0;34m[\u001b[0m\u001b[0mrow\u001b[0m\u001b[0;34m]\u001b[0m\u001b[0;34m[\u001b[0m\u001b[0;34m'cast'\u001b[0m\u001b[0;34m]\u001b[0m\u001b[0;34m,\u001b[0m \u001b[0;36m2\u001b[0m\u001b[0;34m)\u001b[0m\u001b[0;34m)\u001b[0m\u001b[0;34m)\u001b[0m\u001b[0;34m\u001b[0m\u001b[0;34m\u001b[0m\u001b[0m\n\u001b[0m\u001b[1;32m      8\u001b[0m \u001b[0;34m\u001b[0m\u001b[0m\n\u001b[1;32m      9\u001b[0m \u001b[0mpairs\u001b[0m\u001b[0;34m\u001b[0m\u001b[0;34m\u001b[0m\u001b[0m\n",
      "\u001b[0;32m~/opt/anaconda3/lib/python3.7/site-packages/pandas/core/frame.py\u001b[0m in \u001b[0;36m__getitem__\u001b[0;34m(self, key)\u001b[0m\n\u001b[1;32m   2798\u001b[0m             \u001b[0;32mif\u001b[0m \u001b[0mself\u001b[0m\u001b[0;34m.\u001b[0m\u001b[0mcolumns\u001b[0m\u001b[0;34m.\u001b[0m\u001b[0mnlevels\u001b[0m \u001b[0;34m>\u001b[0m \u001b[0;36m1\u001b[0m\u001b[0;34m:\u001b[0m\u001b[0;34m\u001b[0m\u001b[0;34m\u001b[0m\u001b[0m\n\u001b[1;32m   2799\u001b[0m                 \u001b[0;32mreturn\u001b[0m \u001b[0mself\u001b[0m\u001b[0;34m.\u001b[0m\u001b[0m_getitem_multilevel\u001b[0m\u001b[0;34m(\u001b[0m\u001b[0mkey\u001b[0m\u001b[0;34m)\u001b[0m\u001b[0;34m\u001b[0m\u001b[0;34m\u001b[0m\u001b[0m\n\u001b[0;32m-> 2800\u001b[0;31m             \u001b[0mindexer\u001b[0m \u001b[0;34m=\u001b[0m \u001b[0mself\u001b[0m\u001b[0;34m.\u001b[0m\u001b[0mcolumns\u001b[0m\u001b[0;34m.\u001b[0m\u001b[0mget_loc\u001b[0m\u001b[0;34m(\u001b[0m\u001b[0mkey\u001b[0m\u001b[0;34m)\u001b[0m\u001b[0;34m\u001b[0m\u001b[0;34m\u001b[0m\u001b[0m\n\u001b[0m\u001b[1;32m   2801\u001b[0m             \u001b[0;32mif\u001b[0m \u001b[0mis_integer\u001b[0m\u001b[0;34m(\u001b[0m\u001b[0mindexer\u001b[0m\u001b[0;34m)\u001b[0m\u001b[0;34m:\u001b[0m\u001b[0;34m\u001b[0m\u001b[0;34m\u001b[0m\u001b[0m\n\u001b[1;32m   2802\u001b[0m                 \u001b[0mindexer\u001b[0m \u001b[0;34m=\u001b[0m \u001b[0;34m[\u001b[0m\u001b[0mindexer\u001b[0m\u001b[0;34m]\u001b[0m\u001b[0;34m\u001b[0m\u001b[0;34m\u001b[0m\u001b[0m\n",
      "\u001b[0;32m~/opt/anaconda3/lib/python3.7/site-packages/pandas/core/indexes/base.py\u001b[0m in \u001b[0;36mget_loc\u001b[0;34m(self, key, method, tolerance)\u001b[0m\n\u001b[1;32m   2646\u001b[0m                 \u001b[0;32mreturn\u001b[0m \u001b[0mself\u001b[0m\u001b[0;34m.\u001b[0m\u001b[0m_engine\u001b[0m\u001b[0;34m.\u001b[0m\u001b[0mget_loc\u001b[0m\u001b[0;34m(\u001b[0m\u001b[0mkey\u001b[0m\u001b[0;34m)\u001b[0m\u001b[0;34m\u001b[0m\u001b[0;34m\u001b[0m\u001b[0m\n\u001b[1;32m   2647\u001b[0m             \u001b[0;32mexcept\u001b[0m \u001b[0mKeyError\u001b[0m\u001b[0;34m:\u001b[0m\u001b[0;34m\u001b[0m\u001b[0;34m\u001b[0m\u001b[0m\n\u001b[0;32m-> 2648\u001b[0;31m                 \u001b[0;32mreturn\u001b[0m \u001b[0mself\u001b[0m\u001b[0;34m.\u001b[0m\u001b[0m_engine\u001b[0m\u001b[0;34m.\u001b[0m\u001b[0mget_loc\u001b[0m\u001b[0;34m(\u001b[0m\u001b[0mself\u001b[0m\u001b[0;34m.\u001b[0m\u001b[0m_maybe_cast_indexer\u001b[0m\u001b[0;34m(\u001b[0m\u001b[0mkey\u001b[0m\u001b[0;34m)\u001b[0m\u001b[0;34m)\u001b[0m\u001b[0;34m\u001b[0m\u001b[0;34m\u001b[0m\u001b[0m\n\u001b[0m\u001b[1;32m   2649\u001b[0m         \u001b[0mindexer\u001b[0m \u001b[0;34m=\u001b[0m \u001b[0mself\u001b[0m\u001b[0;34m.\u001b[0m\u001b[0mget_indexer\u001b[0m\u001b[0;34m(\u001b[0m\u001b[0;34m[\u001b[0m\u001b[0mkey\u001b[0m\u001b[0;34m]\u001b[0m\u001b[0;34m,\u001b[0m \u001b[0mmethod\u001b[0m\u001b[0;34m=\u001b[0m\u001b[0mmethod\u001b[0m\u001b[0;34m,\u001b[0m \u001b[0mtolerance\u001b[0m\u001b[0;34m=\u001b[0m\u001b[0mtolerance\u001b[0m\u001b[0;34m)\u001b[0m\u001b[0;34m\u001b[0m\u001b[0;34m\u001b[0m\u001b[0m\n\u001b[1;32m   2650\u001b[0m         \u001b[0;32mif\u001b[0m \u001b[0mindexer\u001b[0m\u001b[0;34m.\u001b[0m\u001b[0mndim\u001b[0m \u001b[0;34m>\u001b[0m \u001b[0;36m1\u001b[0m \u001b[0;32mor\u001b[0m \u001b[0mindexer\u001b[0m\u001b[0;34m.\u001b[0m\u001b[0msize\u001b[0m \u001b[0;34m>\u001b[0m \u001b[0;36m1\u001b[0m\u001b[0;34m:\u001b[0m\u001b[0;34m\u001b[0m\u001b[0;34m\u001b[0m\u001b[0m\n",
      "\u001b[0;32mpandas/_libs/index.pyx\u001b[0m in \u001b[0;36mpandas._libs.index.IndexEngine.get_loc\u001b[0;34m()\u001b[0m\n",
      "\u001b[0;32mpandas/_libs/index.pyx\u001b[0m in \u001b[0;36mpandas._libs.index.IndexEngine.get_loc\u001b[0;34m()\u001b[0m\n",
      "\u001b[0;32mpandas/_libs/hashtable_class_helper.pxi\u001b[0m in \u001b[0;36mpandas._libs.hashtable.PyObjectHashTable.get_item\u001b[0;34m()\u001b[0m\n",
      "\u001b[0;32mpandas/_libs/hashtable_class_helper.pxi\u001b[0m in \u001b[0;36mpandas._libs.hashtable.PyObjectHashTable.get_item\u001b[0;34m()\u001b[0m\n",
      "\u001b[0;31mKeyError\u001b[0m: 0"
     ]
    }
   ],
   "source": [
    "data27 = data.copy()\n",
    "data27['cast'] = data27['cast'].str.split('|')\n",
    "\n",
    "pairs=[]\n",
    "\n",
    "for row in range(len(data27)):\n",
    "    pairs.append(list(itertools.combinations(data27[row]['cast'], 2)))\n",
    "\n",
    "pairs\n",
    "\n",
    "# к сожалению так и не смог разобраться с этим заданием"
   ]
  },
  {
   "cell_type": "markdown",
   "metadata": {
    "colab_type": "text",
    "id": "U0nONFnGVqAX"
   },
   "source": [
    "# Submission"
   ]
  },
  {
   "cell_type": "code",
   "execution_count": 724,
   "metadata": {
    "colab": {},
    "colab_type": "code",
    "id": "IfcaRO9-VqAX",
    "outputId": "0f132912-32bb-4196-c98c-abfbc4ad5a5f"
   },
   "outputs": [
    {
     "data": {
      "text/plain": [
       "{'22': '2. 450',\n",
       " '1': '5. Pirates of the Caribbean: On Stranger Tides (tt1298650)',\n",
       " '2': '2. Gods and Generals (tt0279111)',\n",
       " '3': '3. Winnie the Pooh (tt1449283)',\n",
       " '4': '2. 110',\n",
       " '5': '1. 107',\n",
       " '6': '5. Avatar (tt0499549)',\n",
       " '8': '1. 1478',\n",
       " '9': '4. The Dark Knight (tt0468569)',\n",
       " '10': '4. The Lone Ranger (tt1210819)',\n",
       " '11': '3. Drama',\n",
       " '13': '5. Peter Jackson',\n",
       " '14': '3. Robert Rodriguez',\n",
       " '15': '3. Chris Hemsworth',\n",
       " '16': '3. Matt Damon',\n",
       " '17': '2. Action',\n",
       " '18': '1. K-19: The Widowmaker (tt0267626)',\n",
       " '19': '5. 2015',\n",
       " '20': '1. 2014',\n",
       " '21': '4. Сентябрь',\n",
       " '23': '5. Peter Jackson',\n",
       " '24': '5. Four By Two Productions',\n",
       " '25': '3. Midnight Picture Show',\n",
       " '12': '1. Drama',\n",
       " '26': '1. Inside Out, The Dark Knight, 12 Years a Slave'}"
      ]
     },
     "execution_count": 724,
     "metadata": {},
     "output_type": "execute_result"
    }
   ],
   "source": [
    "# в конце можно посмотреть свои ответы к каждому вопросу\n",
    "answers"
   ]
  },
  {
   "cell_type": "code",
   "execution_count": 684,
   "metadata": {
    "colab": {},
    "colab_type": "code",
    "id": "SiRmHPl8VqAd"
   },
   "outputs": [
    {
     "data": {
      "text/plain": [
       "24"
      ]
     },
     "execution_count": 684,
     "metadata": {},
     "output_type": "execute_result"
    }
   ],
   "source": [
    "# и убедиться что ни чего не пропустил)\n",
    "len(answers)"
   ]
  },
  {
   "cell_type": "code",
   "execution_count": 0,
   "metadata": {
    "colab": {},
    "colab_type": "code",
    "id": "uCfuTkRbVqAg"
   },
   "outputs": [],
   "source": []
  },
  {
   "cell_type": "code",
   "execution_count": 0,
   "metadata": {
    "colab": {},
    "colab_type": "code",
    "id": "Vwx3NrkSVqAl"
   },
   "outputs": [],
   "source": []
  }
 ],
 "metadata": {
  "colab": {
   "name": "Copy of [SF-DST] Movies IMBD v4.1 TEMPLATE.ipynb",
   "provenance": []
  },
  "kernelspec": {
   "display_name": "Python 3",
   "language": "python",
   "name": "python3"
  },
  "language_info": {
   "codemirror_mode": {
    "name": "ipython",
    "version": 3
   },
   "file_extension": ".py",
   "mimetype": "text/x-python",
   "name": "python",
   "nbconvert_exporter": "python",
   "pygments_lexer": "ipython3",
   "version": "3.7.6"
  }
 },
 "nbformat": 4,
 "nbformat_minor": 1
}
